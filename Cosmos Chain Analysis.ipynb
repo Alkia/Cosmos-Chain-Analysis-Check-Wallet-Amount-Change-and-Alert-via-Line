{
 "cells": [
  {
   "cell_type": "markdown",
   "metadata": {},
   "source": [
    "## Cosmos Chain Analysis\n",
    "Using python API tools for Cosmos wallet management "
   ]
  },
  {
   "cell_type": "code",
   "execution_count": 24,
   "metadata": {},
   "outputs": [
    {
     "name": "stderr",
     "output_type": "stream",
     "text": [
      "WARNING: pip is being invoked by an old script wrapper. This will fail in a future version of pip.\n",
      "Please see https://github.com/pypa/pip/issues/5599 for advice on fixing the underlying issue.\n",
      "To avoid this problem you can invoke Python with '-m pip' instead of running pip directly.\n"
     ]
    },
    {
     "name": "stdout",
     "output_type": "stream",
     "text": [
      "Requirement already satisfied: BeautifulSoup4 in c:\\programdata\\anaconda3\\lib\\site-packages (4.9.1)\n",
      "Requirement already satisfied: soupsieve>1.2 in c:\\programdata\\anaconda3\\lib\\site-packages (from BeautifulSoup4) (2.0.1)\n",
      "Requirement already satisfied: httpx in c:\\programdata\\anaconda3\\lib\\site-packages (0.22.0)\n",
      "Requirement already satisfied: httpcore<0.15.0,>=0.14.5 in c:\\programdata\\anaconda3\\lib\\site-packages (from httpx) (0.14.7)\n",
      "Requirement already satisfied: certifi in c:\\programdata\\anaconda3\\lib\\site-packages (from httpx) (2020.6.20)\n",
      "Requirement already satisfied: sniffio in c:\\programdata\\anaconda3\\lib\\site-packages (from httpx) (1.2.0)\n",
      "Requirement already satisfied: rfc3986[idna2008]<2,>=1.3 in c:\\programdata\\anaconda3\\lib\\site-packages (from httpx) (1.5.0)\n",
      "Requirement already satisfied: charset-normalizer in c:\\programdata\\anaconda3\\lib\\site-packages (from httpx) (2.0.12)\n",
      "Requirement already satisfied: anyio==3.* in c:\\programdata\\anaconda3\\lib\\site-packages (from httpcore<0.15.0,>=0.14.5->httpx) (3.5.0)\n",
      "Requirement already satisfied: h11<0.13,>=0.11 in c:\\programdata\\anaconda3\\lib\\site-packages (from httpcore<0.15.0,>=0.14.5->httpx) (0.12.0)\n"
     ]
    },
    {
     "name": "stderr",
     "output_type": "stream",
     "text": [
      "WARNING: pip is being invoked by an old script wrapper. This will fail in a future version of pip.\n",
      "Please see https://github.com/pypa/pip/issues/5599 for advice on fixing the underlying issue.\n",
      "To avoid this problem you can invoke Python with '-m pip' instead of running pip directly.\n"
     ]
    },
    {
     "name": "stdout",
     "output_type": "stream",
     "text": [
      "Requirement already satisfied: idna; extra == \"idna2008\" in c:\\programdata\\anaconda3\\lib\\site-packages (from rfc3986[idna2008]<2,>=1.3->httpx) (2.10)\n",
      "Requirement already satisfied: cosmospy in c:\\programdata\\anaconda3\\lib\\site-packages (6.0.0)\n",
      "Requirement already satisfied: bech32>=1.1.0 in c:\\programdata\\anaconda3\\lib\\site-packages (from cosmospy) (1.2.0)\n",
      "Requirement already satisfied: mnemonic>=0.19 in c:\\programdata\\anaconda3\\lib\\site-packages (from cosmospy) (0.20)\n",
      "Requirement already satisfied: hdwallets>=0.1.0 in c:\\programdata\\anaconda3\\lib\\site-packages (from cosmospy) (0.1.2)\n",
      "Requirement already satisfied: ecdsa>=0.14.0 in c:\\programdata\\anaconda3\\lib\\site-packages (from cosmospy) (0.17.0)\n",
      "Requirement already satisfied: six>=1.9.0 in c:\\programdata\\anaconda3\\lib\\site-packages (from ecdsa>=0.14.0->cosmospy) (1.15.0)\n"
     ]
    },
    {
     "name": "stderr",
     "output_type": "stream",
     "text": [
      "WARNING: pip is being invoked by an old script wrapper. This will fail in a future version of pip.\n",
      "Please see https://github.com/pypa/pip/issues/5599 for advice on fixing the underlying issue.\n",
      "To avoid this problem you can invoke Python with '-m pip' instead of running pip directly.\n"
     ]
    }
   ],
   "source": [
    "# installing API from PyPI repository (https://pypi.org/project/cosmospy):\n",
    "#pip install httpx\n",
    "#pip install cosmospy\n",
    "import json\n",
    "import pip\n",
    "if int(pip.__version__.split('.')[0])>9:\n",
    " from pip._internal import main\n",
    "else:\n",
    "  from pip import main\n",
    "def install(package):\n",
    " main(['install', package])\n",
    "install('BeautifulSoup4')\n",
    "install('httpx')\n",
    "install('cosmospy')"
   ]
  },
  {
   "cell_type": "code",
   "execution_count": 4,
   "metadata": {},
   "outputs": [],
   "source": [
    "from cosmospy import generate_wallet\n",
    "# wallet = generate_wallet()\n",
    "from cosmospy import BIP32DerivationError, seed_to_privkey\n",
    "#seed = (\n",
    "#    \"teach there dream chase fatigue abandon lava super senior artefact close upgrade\"\n",
    "#)\n",
    "#try:\n",
    "#    privkey = seed_to_privkey(seed, path=\"m/44'/118'/0'/0/0\")\n",
    "#except BIP32DerivationError:\n",
    "#    print(\"No valid private key in this derivation path!\")\n",
    "\n",
    "# Public key to address\n",
    "from cosmospy import pubkey_to_address\n",
    "\n",
    "pubkey = bytes.fromhex(\n",
    "    \"03e8005aad74da5a053602f86e3151d4f3214937863a11299c960c28d3609c4775\"\n",
    ")\n",
    "addr = pubkey_to_address(pubkey)"
   ]
  },
  {
   "cell_type": "code",
   "execution_count": 58,
   "metadata": {},
   "outputs": [
    {
     "name": "stdout",
     "output_type": "stream",
     "text": [
      "Compromized HoneyPot Wallet content:\n",
      " amount(cosmos1fddnfpasamctmnu6a3cfmmz5zs4g74pceweczx) = 0\n",
      "Safe Wallet content:\n",
      " amount(cosmos1n5ygv5tde32qd5cpjqq5etd72slzj9wxdj3x6g) = 150856\n"
     ]
    }
   ],
   "source": [
    "# Optionally submit the transaction using your preferred method.\n",
    "# This example uses the httpx library.\n",
    "import httpx\n",
    "\n",
    "api_base_url = \"https://node.atomscan.com\"\n",
    "api_path_account = \"/cosmos/auth/v1beta1/accounts/\"\n",
    "address_honeypot = \"cosmos1fddnfpasamctmnu6a3cfmmz5zs4g74pceweczx\"\n",
    "address_safe = \"cosmos1n5ygv5tde32qd5cpjqq5etd72slzj9wxdj3x6g\"\n",
    "\n",
    "api_path_ballance = \"/cosmos/bank/v1beta1/balances/\"\n",
    "reponse = httpx.get(api_base_url + api_path_ballance + address_honeypot)\n",
    "print(\"Compromized HoneyPot Wallet content:\")\n",
    "y = json.loads(reponse.text)\n",
    "rep  = y[\"balances\"]\n",
    "if len(rep) > 0:\n",
    "    amount = rep[0][\"amount\"]\n",
    "else :\n",
    "    amount = \"0\"\n",
    "print(\" amount(\" + address_honeypot + \") = \" + str(amount))\n",
    "\n",
    "print(\"Safe Wallet content:\")\n",
    "reponse = httpx.get(api_base_url + api_path_ballance + address_safe)\n",
    "y = json.loads(reponse.text)\n",
    "rep  = y[\"balances\"]\n",
    "if len(rep) > 0:\n",
    "    amount = rep[0][\"amount\"]\n",
    "else :\n",
    "    amount = \"0\"\n",
    "print(\" amount(\" + address_safe + \") = \" + amount)\n"
   ]
  },
  {
   "cell_type": "code",
   "execution_count": 61,
   "metadata": {},
   "outputs": [],
   "source": [
    "import requests\n",
    "Line_Token = \"tuma0cgCi9d65lcSU0zNsRMydiLaYD24kjjlhubrLMn\"\n",
    "payload = {'message' : 'My message'}\n",
    "payload = {'message' : 'Change in wallet'\n",
    "          ,'notificationDisabled' : False\n",
    "          , 'stickerPackageId' : '11538'\n",
    "          , 'stickerId' : '51626498'} # https://developers.line.biz/en/docs/messaging-api/sticker-list/#sticker-definitions\n",
    "r = requests.post('https://notify-api.line.me/api/notify'\n",
    "                , headers={'Authorization' : 'Bearer {}'.format(Line_Token)}\n",
    "                , params = payload)"
   ]
  },
  {
   "cell_type": "code",
   "execution_count": 69,
   "metadata": {},
   "outputs": [],
   "source": [
    "def send_Line(msg):\n",
    "    payload = {'message' : 'Alert change in wallet value! \\n' + msg\n",
    "          ,'notificationDisabled' : False\n",
    "          , 'stickerPackageId' : '11538'\n",
    "          , 'stickerId' : '51626498'} # https://developers.line.biz/en/docs/messaging-api/sticker-list/#sticker-definitions\n",
    "    r = requests.post('https://notify-api.line.me/api/notify'\n",
    "                , headers={'Authorization' : 'Bearer {}'.format(Line_Token)}\n",
    "                , params = payload)\n",
    "    print(\"Message Sent : \" + msg)\n",
    "    \n",
    "#send_Line(\"Test\")"
   ]
  },
  {
   "cell_type": "code",
   "execution_count": 80,
   "metadata": {},
   "outputs": [
    {
     "name": "stdout",
     "output_type": "stream",
     "text": [
      "Wallet amount(cosmos1n5ygv5tde32qd5cpjqq5etd72slzj9wxdj3x6g) = 150856\n",
      "https://www.mintscan.io/cosmos/account/cosmos1n5ygv5tde32qd5cpjqq5etd72slzj9wxdj3x6g\n"
     ]
    },
    {
     "data": {
      "text/plain": [
       "'150856'"
      ]
     },
     "execution_count": 80,
     "metadata": {},
     "output_type": "execute_result"
    }
   ],
   "source": [
    "def check_wallet(address):\n",
    "    reponse = httpx.get(api_base_url + api_path_ballance + address)\n",
    "    y = json.loads(reponse.text)\n",
    "    rep  = y[\"balances\"]\n",
    "    if len(rep) > 0:\n",
    "        amount = rep[0][\"amount\"]\n",
    "    else :\n",
    "        amount = \"0\"\n",
    "    print(\"Wallet amount(\" + address + \") = \" + str(amount))\n",
    "    return amount\n",
    "    \n",
    "check_wallet(address_safe)"
   ]
  },
  {
   "cell_type": "code",
   "execution_count": 82,
   "metadata": {},
   "outputs": [
    {
     "name": "stdout",
     "output_type": "stream",
     "text": [
      "Wallet amount(cosmos1n5ygv5tde32qd5cpjqq5etd72slzj9wxdj3x6g) = 150856\n",
      "https://www.mintscan.io/cosmos/account/cosmos1n5ygv5tde32qd5cpjqq5etd72slzj9wxdj3x6g\n",
      "Message Sent :  amount(cosmos1fddnfpasamctmnu6a3cfmmz5zs4g74pceweczx) = 150856\n",
      "https://www.mintscan.io/cosmos/account/cosmos1fddnfpasamctmnu6a3cfmmz5zs4g74pceweczx\n",
      "0\n",
      "Wallet amount(cosmos1n5ygv5tde32qd5cpjqq5etd72slzj9wxdj3x6g) = 150856\n",
      "https://www.mintscan.io/cosmos/account/cosmos1n5ygv5tde32qd5cpjqq5etd72slzj9wxdj3x6g\n",
      "1\n",
      "Wallet amount(cosmos1n5ygv5tde32qd5cpjqq5etd72slzj9wxdj3x6g) = 150856\n",
      "https://www.mintscan.io/cosmos/account/cosmos1n5ygv5tde32qd5cpjqq5etd72slzj9wxdj3x6g\n",
      "2\n",
      "Wallet amount(cosmos1n5ygv5tde32qd5cpjqq5etd72slzj9wxdj3x6g) = 150856\n",
      "https://www.mintscan.io/cosmos/account/cosmos1n5ygv5tde32qd5cpjqq5etd72slzj9wxdj3x6g\n",
      "3\n",
      "Wallet amount(cosmos1n5ygv5tde32qd5cpjqq5etd72slzj9wxdj3x6g) = 150856\n",
      "https://www.mintscan.io/cosmos/account/cosmos1n5ygv5tde32qd5cpjqq5etd72slzj9wxdj3x6g\n",
      "4\n"
     ]
    }
   ],
   "source": [
    "import time\n",
    "old_amount = 0\n",
    "mintscanlink = \"https://www.mintscan.io/cosmos/account/\"\n",
    "for x in range(5):\n",
    "    time.sleep(1)\n",
    "    new_amount = check_wallet(address_safe)\n",
    "    if new_amount != old_amount :\n",
    "        send_Line(\" amount(\" + address + \") = \" + str(new_amount) + \"\\n\" + mintscanlink + address)\n",
    "        old_amount = new_amount\n",
    "    print(x) "
   ]
  },
  {
   "cell_type": "code",
   "execution_count": null,
   "metadata": {},
   "outputs": [],
   "source": []
  }
 ],
 "metadata": {
  "kernelspec": {
   "display_name": "Python 3",
   "language": "python",
   "name": "python3"
  },
  "language_info": {
   "codemirror_mode": {
    "name": "ipython",
    "version": 3
   },
   "file_extension": ".py",
   "mimetype": "text/x-python",
   "name": "python",
   "nbconvert_exporter": "python",
   "pygments_lexer": "ipython3",
   "version": "3.8.3"
  }
 },
 "nbformat": 4,
 "nbformat_minor": 4
}
